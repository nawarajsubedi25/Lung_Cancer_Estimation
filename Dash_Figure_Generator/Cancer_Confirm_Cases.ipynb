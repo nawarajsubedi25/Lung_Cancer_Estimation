{
 "cells": [
  {
   "cell_type": "code",
   "execution_count": 2,
   "metadata": {},
   "outputs": [
    {
     "data": {
      "application/vnd.plotly.v1+json": {
       "config": {
        "plotlyServerURL": "https://plot.ly"
       },
       "data": [
        {
         "autocolorscale": false,
         "colorbar": {
          "title": {
           "text": "Lung Cancer Cases"
          }
         },
         "colorscale": [
          [
           0,
           "rgb(255,245,240)"
          ],
          [
           0.125,
           "rgb(254,224,210)"
          ],
          [
           0.25,
           "rgb(252,187,161)"
          ],
          [
           0.375,
           "rgb(252,146,114)"
          ],
          [
           0.5,
           "rgb(251,106,74)"
          ],
          [
           0.625,
           "rgb(239,59,44)"
          ],
          [
           0.75,
           "rgb(203,24,29)"
          ],
          [
           0.875,
           "rgb(165,15,21)"
          ],
          [
           1,
           "rgb(103,0,13)"
          ]
         ],
         "locationmode": "USA-states",
         "locations": [
          "WY",
          "NV",
          "RH",
          "OR",
          "CO",
          "MN",
          "MT",
          "GA",
          "OK",
          "TX",
          "MD",
          "ID",
          "NM",
          "SD",
          "UT",
          "CA",
          "AK",
          "HI",
          "VA",
          "DC",
          "MS",
          "MO",
          "WV",
          "TN",
          "FL",
          "AR",
          "NC",
          "PA",
          "IA",
          "KY",
          "ME",
          "SC",
          "KS",
          "AL",
          "VT",
          "AZ",
          "WA",
          "OH",
          "ND",
          "NJ",
          "DE",
          "NH",
          "NE",
          "NY",
          "WI",
          "IL",
          "IN",
          "LA",
          "MA",
          "MI",
          "CT"
         ],
         "marker": {
          "line": {
           "color": "white"
          }
         },
         "text": [
          "In Wyomingin 2019, Age-adjusted rate of<br>new lung cancer cases was 39.6 per 100,000 people <br><br>281 lung cancer cases were reported",
          "In Nevadain 2019, Age-adjusted rate of<br>new lung cancer cases was 48.5 per 100,000 people <br><br>1709 lung cancer cases were reported",
          "In Rhode Islandin 2019, Age-adjusted rate of<br>new lung cancer cases was 61.8 per 100,000 people <br><br>859 lung cancer cases were reported",
          "In Oregonin 2019, Age-adjusted rate of<br>new lung cancer cases was 48.4 per 100,000 people <br><br>2640 lung cancer cases were reported",
          "In Coloradoin 2019, Age-adjusted rate of<br>new lung cancer cases was 39.8 per 100,000 people <br><br>2418 lung cancer cases were reported",
          "In Minnesotain 2019, Age-adjusted rate of<br>new lung cancer cases was 53.7 per 100,000 people <br><br>3642 lung cancer cases were reported",
          "In Montanain 2019, Age-adjusted rate of<br>new lung cancer cases was 47.4 per 100,000 people <br><br>692 lung cancer cases were reported",
          "In Georgiain 2019, Age-adjusted rate of<br>new lung cancer cases was 59.9 per 100,000 people <br><br>6929 lung cancer cases were reported",
          "In Oklahomain 2019, Age-adjusted rate of<br>new lung cancer cases was 61.9 per 100,000 people <br><br>2965 lung cancer cases were reported",
          "In Texasin 2019, Age-adjusted rate of<br>new lung cancer cases was 47.8 per 100,000 people <br><br>13427 lung cancer cases were reported",
          "In Marylandin 2019, Age-adjusted rate of<br>new lung cancer cases was 54.6 per 100,000 people <br><br>3947 lung cancer cases were reported",
          "In Idahoin 2019, Age-adjusted rate of<br>new lung cancer cases was 46.9 per 100,000 people <br><br>961 lung cancer cases were reported",
          "In New Mexicoin 2019, Age-adjusted rate of<br>new lung cancer cases was 33.7 per 100,000 people <br><br>905 lung cancer cases were reported",
          "In South Dakotain 2019, Age-adjusted rate of<br>new lung cancer cases was 55.9 per 100,000 people <br><br>601 lung cancer cases were reported",
          "In Utahin 2019, Age-adjusted rate of<br>new lung cancer cases was 25.1 per 100,000 people <br><br>672 lung cancer cases were reported",
          "In Californiain 2019, Age-adjusted rate of<br>new lung cancer cases was 38.8 per 100,000 people <br><br>16803 lung cancer cases were reported",
          "In Alaskain 2019, Age-adjusted rate of<br>new lung cancer cases was 52.9 per 100,000 people <br><br>363 lung cancer cases were reported",
          "In Hawaiiin 2019, Age-adjusted rate of<br>new lung cancer cases was 44.7 per 100,000 people <br><br>858 lung cancer cases were reported",
          "In Virginiain 2019, Age-adjusted rate of<br>new lung cancer cases was 51.3 per 100,000 people <br><br>5219 lung cancer cases were reported",
          "In District of Columbiain 2019, Age-adjusted rate of<br>new lung cancer cases was 42.8 per 100,000 people <br><br>296 lung cancer cases were reported",
          "In Mississippiin 2019, Age-adjusted rate of<br>new lung cancer cases was 71.7 per 100,000 people <br><br>2647 lung cancer cases were reported",
          "In Missouriin 2019, Age-adjusted rate of<br>new lung cancer cases was 70.8 per 100,000 people <br><br>5625 lung cancer cases were reported",
          "In West Virginiain 2019, Age-adjusted rate of<br>new lung cancer cases was 81.3 per 100,000 people <br><br>2176 lung cancer cases were reported",
          "In Tennesseein 2019, Age-adjusted rate of<br>new lung cancer cases was 70.9 per 100,000 people <br><br>6044 lung cancer cases were reported",
          "In Floridain 2019, Age-adjusted rate of<br>new lung cancer cases was 54.2 per 100,000 people <br><br>17068 lung cancer cases were reported",
          "In Arkansasin 2019, Age-adjusted rate of<br>new lung cancer cases was 71.4 per 100,000 people <br><br>2777 lung cancer cases were reported",
          "In North Carolinain 2019, Age-adjusted rate of<br>new lung cancer cases was 62.9 per 100,000 people <br><br>8093 lung cancer cases were reported",
          "In Pennsylvaniain 2019, Age-adjusted rate of<br>new lung cancer cases was 61.7 per 100,000 people <br><br>10929 lung cancer cases were reported",
          "In Iowain 2019, Age-adjusted rate of<br>new lung cancer cases was 62.8 per 100,000 people <br><br>2557 lung cancer cases were reported",
          "In Kentuckyin 2019, Age-adjusted rate of<br>new lung cancer cases was 87.0 per 100,000 people <br><br>4933 lung cancer cases were reported",
          "In Mainein 2019, Age-adjusted rate of<br>new lung cancer cases was 68.4 per 100,000 people <br><br>1392 lung cancer cases were reported",
          "In South Carolinain 2019, Age-adjusted rate of<br>new lung cancer cases was 61.6 per 100,000 people <br><br>4137 lung cancer cases were reported",
          "In Kansasin 2019, Age-adjusted rate of<br>new lung cancer cases was 52.7 per 100,000 people <br><br>1855 lung cancer cases were reported",
          "In Alabamain 2019, Age-adjusted rate of<br>new lung cancer cases was 61.7 per 100,000 people <br><br>3927 lung cancer cases were reported",
          "In Vermontin 2019, Age-adjusted rate of<br>new lung cancer cases was 56.5 per 100,000 people <br><br>506 lung cancer cases were reported",
          "In Arizonain 2019, Age-adjusted rate of<br>new lung cancer cases was 43.3 per 100,000 people <br><br>3968 lung cancer cases were reported",
          "In Washingtonin 2019, Age-adjusted rate of<br>new lung cancer cases was 49.6 per 100,000 people <br><br>4349 lung cancer cases were reported",
          "In Ohioin 2019, Age-adjusted rate of<br>new lung cancer cases was 63.8 per 100,000 people <br><br>9742 lung cancer cases were reported",
          "In North Dakotain 2019, Age-adjusted rate of<br>new lung cancer cases was 60.2 per 100,000 people <br><br>522 lung cancer cases were reported",
          "In New Jerseyin 2019, Age-adjusted rate of<br>new lung cancer cases was 51.4 per 100,000 people <br><br>5743 lung cancer cases were reported",
          "In Delawarein 2019, Age-adjusted rate of<br>new lung cancer cases was 56.7 per 100,000 people <br><br>761 lung cancer cases were reported",
          "In New Hampshirein 2019, Age-adjusted rate of<br>new lung cancer cases was 60.5 per 100,000 people <br><br>1137 lung cancer cases were reported",
          "In Nebraskain 2019, Age-adjusted rate of<br>new lung cancer cases was 54.6 per 100,000 people <br><br>1256 lung cancer cases were reported",
          "In New Yorkin 2019, Age-adjusted rate of<br>new lung cancer cases was 58.3 per 100,000 people <br><br>14364 lung cancer cases were reported",
          "In Wisconsinin 2019, Age-adjusted rate of<br>new lung cancer cases was 56.0 per 100,000 people <br><br>4234 lung cancer cases were reported",
          "In Illinoisin 2019, Age-adjusted rate of<br>new lung cancer cases was 61.2 per 100,000 people <br><br>9429 lung cancer cases were reported",
          "In Indianain 2019, Age-adjusted rate of<br>new lung cancer cases was 66.2 per 100,000 people <br><br>5379 lung cancer cases were reported",
          "In Louisianain 2019, Age-adjusted rate of<br>new lung cancer cases was 63.4 per 100,000 people <br><br>3564 lung cancer cases were reported",
          "In Massachusettsin 2019, Age-adjusted rate of<br>new lung cancer cases was 58.8 per 100,000 people <br><br>5141 lung cancer cases were reported",
          "In Michiganin 2019, Age-adjusted rate of<br>new lung cancer cases was 60.1 per 100,000 people <br><br>7887 lung cancer cases were reported",
          "In Connecticutin 2019, Age-adjusted rate of<br>new lung cancer cases was 58.7 per 100,000 people <br><br>2792 lung cancer cases were reported"
         ],
         "type": "choropleth",
         "z": [
          281,
          1709,
          859,
          2640,
          2418,
          3642,
          692,
          6929,
          2965,
          13427,
          3947,
          961,
          905,
          601,
          672,
          16803,
          363,
          858,
          5219,
          296,
          2647,
          5625,
          2176,
          6044,
          17068,
          2777,
          8093,
          10929,
          2557,
          4933,
          1392,
          4137,
          1855,
          3927,
          506,
          3968,
          4349,
          9742,
          522,
          5743,
          761,
          1137,
          1256,
          14364,
          4234,
          9429,
          5379,
          3564,
          5141,
          7887,
          2792
         ]
        }
       ],
       "layout": {
        "geo": {
         "lakecolor": "rgb(255, 255, 255)",
         "projection": {
          "type": "albers usa"
         },
         "scope": "usa",
         "showlakes": true
        },
        "template": {
         "data": {
          "bar": [
           {
            "error_x": {
             "color": "#2a3f5f"
            },
            "error_y": {
             "color": "#2a3f5f"
            },
            "marker": {
             "line": {
              "color": "#E5ECF6",
              "width": 0.5
             }
            },
            "type": "bar"
           }
          ],
          "barpolar": [
           {
            "marker": {
             "line": {
              "color": "#E5ECF6",
              "width": 0.5
             }
            },
            "type": "barpolar"
           }
          ],
          "carpet": [
           {
            "aaxis": {
             "endlinecolor": "#2a3f5f",
             "gridcolor": "white",
             "linecolor": "white",
             "minorgridcolor": "white",
             "startlinecolor": "#2a3f5f"
            },
            "baxis": {
             "endlinecolor": "#2a3f5f",
             "gridcolor": "white",
             "linecolor": "white",
             "minorgridcolor": "white",
             "startlinecolor": "#2a3f5f"
            },
            "type": "carpet"
           }
          ],
          "choropleth": [
           {
            "colorbar": {
             "outlinewidth": 0,
             "ticks": ""
            },
            "type": "choropleth"
           }
          ],
          "contour": [
           {
            "colorbar": {
             "outlinewidth": 0,
             "ticks": ""
            },
            "colorscale": [
             [
              0,
              "#0d0887"
             ],
             [
              0.1111111111111111,
              "#46039f"
             ],
             [
              0.2222222222222222,
              "#7201a8"
             ],
             [
              0.3333333333333333,
              "#9c179e"
             ],
             [
              0.4444444444444444,
              "#bd3786"
             ],
             [
              0.5555555555555556,
              "#d8576b"
             ],
             [
              0.6666666666666666,
              "#ed7953"
             ],
             [
              0.7777777777777778,
              "#fb9f3a"
             ],
             [
              0.8888888888888888,
              "#fdca26"
             ],
             [
              1,
              "#f0f921"
             ]
            ],
            "type": "contour"
           }
          ],
          "contourcarpet": [
           {
            "colorbar": {
             "outlinewidth": 0,
             "ticks": ""
            },
            "type": "contourcarpet"
           }
          ],
          "heatmap": [
           {
            "colorbar": {
             "outlinewidth": 0,
             "ticks": ""
            },
            "colorscale": [
             [
              0,
              "#0d0887"
             ],
             [
              0.1111111111111111,
              "#46039f"
             ],
             [
              0.2222222222222222,
              "#7201a8"
             ],
             [
              0.3333333333333333,
              "#9c179e"
             ],
             [
              0.4444444444444444,
              "#bd3786"
             ],
             [
              0.5555555555555556,
              "#d8576b"
             ],
             [
              0.6666666666666666,
              "#ed7953"
             ],
             [
              0.7777777777777778,
              "#fb9f3a"
             ],
             [
              0.8888888888888888,
              "#fdca26"
             ],
             [
              1,
              "#f0f921"
             ]
            ],
            "type": "heatmap"
           }
          ],
          "heatmapgl": [
           {
            "colorbar": {
             "outlinewidth": 0,
             "ticks": ""
            },
            "colorscale": [
             [
              0,
              "#0d0887"
             ],
             [
              0.1111111111111111,
              "#46039f"
             ],
             [
              0.2222222222222222,
              "#7201a8"
             ],
             [
              0.3333333333333333,
              "#9c179e"
             ],
             [
              0.4444444444444444,
              "#bd3786"
             ],
             [
              0.5555555555555556,
              "#d8576b"
             ],
             [
              0.6666666666666666,
              "#ed7953"
             ],
             [
              0.7777777777777778,
              "#fb9f3a"
             ],
             [
              0.8888888888888888,
              "#fdca26"
             ],
             [
              1,
              "#f0f921"
             ]
            ],
            "type": "heatmapgl"
           }
          ],
          "histogram": [
           {
            "marker": {
             "colorbar": {
              "outlinewidth": 0,
              "ticks": ""
             }
            },
            "type": "histogram"
           }
          ],
          "histogram2d": [
           {
            "colorbar": {
             "outlinewidth": 0,
             "ticks": ""
            },
            "colorscale": [
             [
              0,
              "#0d0887"
             ],
             [
              0.1111111111111111,
              "#46039f"
             ],
             [
              0.2222222222222222,
              "#7201a8"
             ],
             [
              0.3333333333333333,
              "#9c179e"
             ],
             [
              0.4444444444444444,
              "#bd3786"
             ],
             [
              0.5555555555555556,
              "#d8576b"
             ],
             [
              0.6666666666666666,
              "#ed7953"
             ],
             [
              0.7777777777777778,
              "#fb9f3a"
             ],
             [
              0.8888888888888888,
              "#fdca26"
             ],
             [
              1,
              "#f0f921"
             ]
            ],
            "type": "histogram2d"
           }
          ],
          "histogram2dcontour": [
           {
            "colorbar": {
             "outlinewidth": 0,
             "ticks": ""
            },
            "colorscale": [
             [
              0,
              "#0d0887"
             ],
             [
              0.1111111111111111,
              "#46039f"
             ],
             [
              0.2222222222222222,
              "#7201a8"
             ],
             [
              0.3333333333333333,
              "#9c179e"
             ],
             [
              0.4444444444444444,
              "#bd3786"
             ],
             [
              0.5555555555555556,
              "#d8576b"
             ],
             [
              0.6666666666666666,
              "#ed7953"
             ],
             [
              0.7777777777777778,
              "#fb9f3a"
             ],
             [
              0.8888888888888888,
              "#fdca26"
             ],
             [
              1,
              "#f0f921"
             ]
            ],
            "type": "histogram2dcontour"
           }
          ],
          "mesh3d": [
           {
            "colorbar": {
             "outlinewidth": 0,
             "ticks": ""
            },
            "type": "mesh3d"
           }
          ],
          "parcoords": [
           {
            "line": {
             "colorbar": {
              "outlinewidth": 0,
              "ticks": ""
             }
            },
            "type": "parcoords"
           }
          ],
          "pie": [
           {
            "automargin": true,
            "type": "pie"
           }
          ],
          "scatter": [
           {
            "marker": {
             "colorbar": {
              "outlinewidth": 0,
              "ticks": ""
             }
            },
            "type": "scatter"
           }
          ],
          "scatter3d": [
           {
            "line": {
             "colorbar": {
              "outlinewidth": 0,
              "ticks": ""
             }
            },
            "marker": {
             "colorbar": {
              "outlinewidth": 0,
              "ticks": ""
             }
            },
            "type": "scatter3d"
           }
          ],
          "scattercarpet": [
           {
            "marker": {
             "colorbar": {
              "outlinewidth": 0,
              "ticks": ""
             }
            },
            "type": "scattercarpet"
           }
          ],
          "scattergeo": [
           {
            "marker": {
             "colorbar": {
              "outlinewidth": 0,
              "ticks": ""
             }
            },
            "type": "scattergeo"
           }
          ],
          "scattergl": [
           {
            "marker": {
             "colorbar": {
              "outlinewidth": 0,
              "ticks": ""
             }
            },
            "type": "scattergl"
           }
          ],
          "scattermapbox": [
           {
            "marker": {
             "colorbar": {
              "outlinewidth": 0,
              "ticks": ""
             }
            },
            "type": "scattermapbox"
           }
          ],
          "scatterpolar": [
           {
            "marker": {
             "colorbar": {
              "outlinewidth": 0,
              "ticks": ""
             }
            },
            "type": "scatterpolar"
           }
          ],
          "scatterpolargl": [
           {
            "marker": {
             "colorbar": {
              "outlinewidth": 0,
              "ticks": ""
             }
            },
            "type": "scatterpolargl"
           }
          ],
          "scatterternary": [
           {
            "marker": {
             "colorbar": {
              "outlinewidth": 0,
              "ticks": ""
             }
            },
            "type": "scatterternary"
           }
          ],
          "surface": [
           {
            "colorbar": {
             "outlinewidth": 0,
             "ticks": ""
            },
            "colorscale": [
             [
              0,
              "#0d0887"
             ],
             [
              0.1111111111111111,
              "#46039f"
             ],
             [
              0.2222222222222222,
              "#7201a8"
             ],
             [
              0.3333333333333333,
              "#9c179e"
             ],
             [
              0.4444444444444444,
              "#bd3786"
             ],
             [
              0.5555555555555556,
              "#d8576b"
             ],
             [
              0.6666666666666666,
              "#ed7953"
             ],
             [
              0.7777777777777778,
              "#fb9f3a"
             ],
             [
              0.8888888888888888,
              "#fdca26"
             ],
             [
              1,
              "#f0f921"
             ]
            ],
            "type": "surface"
           }
          ],
          "table": [
           {
            "cells": {
             "fill": {
              "color": "#EBF0F8"
             },
             "line": {
              "color": "white"
             }
            },
            "header": {
             "fill": {
              "color": "#C8D4E3"
             },
             "line": {
              "color": "white"
             }
            },
            "type": "table"
           }
          ]
         },
         "layout": {
          "annotationdefaults": {
           "arrowcolor": "#2a3f5f",
           "arrowhead": 0,
           "arrowwidth": 1
          },
          "coloraxis": {
           "colorbar": {
            "outlinewidth": 0,
            "ticks": ""
           }
          },
          "colorscale": {
           "diverging": [
            [
             0,
             "#8e0152"
            ],
            [
             0.1,
             "#c51b7d"
            ],
            [
             0.2,
             "#de77ae"
            ],
            [
             0.3,
             "#f1b6da"
            ],
            [
             0.4,
             "#fde0ef"
            ],
            [
             0.5,
             "#f7f7f7"
            ],
            [
             0.6,
             "#e6f5d0"
            ],
            [
             0.7,
             "#b8e186"
            ],
            [
             0.8,
             "#7fbc41"
            ],
            [
             0.9,
             "#4d9221"
            ],
            [
             1,
             "#276419"
            ]
           ],
           "sequential": [
            [
             0,
             "#0d0887"
            ],
            [
             0.1111111111111111,
             "#46039f"
            ],
            [
             0.2222222222222222,
             "#7201a8"
            ],
            [
             0.3333333333333333,
             "#9c179e"
            ],
            [
             0.4444444444444444,
             "#bd3786"
            ],
            [
             0.5555555555555556,
             "#d8576b"
            ],
            [
             0.6666666666666666,
             "#ed7953"
            ],
            [
             0.7777777777777778,
             "#fb9f3a"
            ],
            [
             0.8888888888888888,
             "#fdca26"
            ],
            [
             1,
             "#f0f921"
            ]
           ],
           "sequentialminus": [
            [
             0,
             "#0d0887"
            ],
            [
             0.1111111111111111,
             "#46039f"
            ],
            [
             0.2222222222222222,
             "#7201a8"
            ],
            [
             0.3333333333333333,
             "#9c179e"
            ],
            [
             0.4444444444444444,
             "#bd3786"
            ],
            [
             0.5555555555555556,
             "#d8576b"
            ],
            [
             0.6666666666666666,
             "#ed7953"
            ],
            [
             0.7777777777777778,
             "#fb9f3a"
            ],
            [
             0.8888888888888888,
             "#fdca26"
            ],
            [
             1,
             "#f0f921"
            ]
           ]
          },
          "colorway": [
           "#636efa",
           "#EF553B",
           "#00cc96",
           "#ab63fa",
           "#FFA15A",
           "#19d3f3",
           "#FF6692",
           "#B6E880",
           "#FF97FF",
           "#FECB52"
          ],
          "font": {
           "color": "#2a3f5f"
          },
          "geo": {
           "bgcolor": "white",
           "lakecolor": "white",
           "landcolor": "#E5ECF6",
           "showlakes": true,
           "showland": true,
           "subunitcolor": "white"
          },
          "hoverlabel": {
           "align": "left"
          },
          "hovermode": "closest",
          "mapbox": {
           "style": "light"
          },
          "paper_bgcolor": "white",
          "plot_bgcolor": "#E5ECF6",
          "polar": {
           "angularaxis": {
            "gridcolor": "white",
            "linecolor": "white",
            "ticks": ""
           },
           "bgcolor": "#E5ECF6",
           "radialaxis": {
            "gridcolor": "white",
            "linecolor": "white",
            "ticks": ""
           }
          },
          "scene": {
           "xaxis": {
            "backgroundcolor": "#E5ECF6",
            "gridcolor": "white",
            "gridwidth": 2,
            "linecolor": "white",
            "showbackground": true,
            "ticks": "",
            "zerolinecolor": "white"
           },
           "yaxis": {
            "backgroundcolor": "#E5ECF6",
            "gridcolor": "white",
            "gridwidth": 2,
            "linecolor": "white",
            "showbackground": true,
            "ticks": "",
            "zerolinecolor": "white"
           },
           "zaxis": {
            "backgroundcolor": "#E5ECF6",
            "gridcolor": "white",
            "gridwidth": 2,
            "linecolor": "white",
            "showbackground": true,
            "ticks": "",
            "zerolinecolor": "white"
           }
          },
          "shapedefaults": {
           "line": {
            "color": "#2a3f5f"
           }
          },
          "ternary": {
           "aaxis": {
            "gridcolor": "white",
            "linecolor": "white",
            "ticks": ""
           },
           "baxis": {
            "gridcolor": "white",
            "linecolor": "white",
            "ticks": ""
           },
           "bgcolor": "#E5ECF6",
           "caxis": {
            "gridcolor": "white",
            "linecolor": "white",
            "ticks": ""
           }
          },
          "title": {
           "x": 0.05
          },
          "xaxis": {
           "automargin": true,
           "gridcolor": "white",
           "linecolor": "white",
           "ticks": "",
           "title": {
            "standoff": 15
           },
           "zerolinecolor": "white",
           "zerolinewidth": 2
          },
          "yaxis": {
           "automargin": true,
           "gridcolor": "white",
           "linecolor": "white",
           "ticks": "",
           "title": {
            "standoff": 15
           },
           "zerolinecolor": "white",
           "zerolinewidth": 2
          }
         }
        },
        "title": {
         "text": "No. of Lung and Bronchus Cancer , All Ages, All Races/Ethnicities, Male and Female by State, 2019"
        }
       }
      },
      "text/html": [
       "<div>\n",
       "        \n",
       "        \n",
       "            <div id=\"b99f8ae0-9f8c-4f88-86f1-38262574d6ad\" class=\"plotly-graph-div\" style=\"height:525px; width:100%;\"></div>\n",
       "            <script type=\"text/javascript\">\n",
       "                require([\"plotly\"], function(Plotly) {\n",
       "                    window.PLOTLYENV=window.PLOTLYENV || {};\n",
       "                    \n",
       "                if (document.getElementById(\"b99f8ae0-9f8c-4f88-86f1-38262574d6ad\")) {\n",
       "                    Plotly.newPlot(\n",
       "                        'b99f8ae0-9f8c-4f88-86f1-38262574d6ad',\n",
       "                        [{\"autocolorscale\": false, \"colorbar\": {\"title\": {\"text\": \"Lung Cancer Cases\"}}, \"colorscale\": [[0.0, \"rgb(255,245,240)\"], [0.125, \"rgb(254,224,210)\"], [0.25, \"rgb(252,187,161)\"], [0.375, \"rgb(252,146,114)\"], [0.5, \"rgb(251,106,74)\"], [0.625, \"rgb(239,59,44)\"], [0.75, \"rgb(203,24,29)\"], [0.875, \"rgb(165,15,21)\"], [1.0, \"rgb(103,0,13)\"]], \"locationmode\": \"USA-states\", \"locations\": [\"WY\", \"NV\", \"RH\", \"OR\", \"CO\", \"MN\", \"MT\", \"GA\", \"OK\", \"TX\", \"MD\", \"ID\", \"NM\", \"SD\", \"UT\", \"CA\", \"AK\", \"HI\", \"VA\", \"DC\", \"MS\", \"MO\", \"WV\", \"TN\", \"FL\", \"AR\", \"NC\", \"PA\", \"IA\", \"KY\", \"ME\", \"SC\", \"KS\", \"AL\", \"VT\", \"AZ\", \"WA\", \"OH\", \"ND\", \"NJ\", \"DE\", \"NH\", \"NE\", \"NY\", \"WI\", \"IL\", \"IN\", \"LA\", \"MA\", \"MI\", \"CT\"], \"marker\": {\"line\": {\"color\": \"white\"}}, \"text\": [\"In Wyomingin 2019, Age-adjusted rate of<br>new lung cancer cases was 39.6 per 100,000 people <br><br>281 lung cancer cases were reported\", \"In Nevadain 2019, Age-adjusted rate of<br>new lung cancer cases was 48.5 per 100,000 people <br><br>1709 lung cancer cases were reported\", \"In Rhode Islandin 2019, Age-adjusted rate of<br>new lung cancer cases was 61.8 per 100,000 people <br><br>859 lung cancer cases were reported\", \"In Oregonin 2019, Age-adjusted rate of<br>new lung cancer cases was 48.4 per 100,000 people <br><br>2640 lung cancer cases were reported\", \"In Coloradoin 2019, Age-adjusted rate of<br>new lung cancer cases was 39.8 per 100,000 people <br><br>2418 lung cancer cases were reported\", \"In Minnesotain 2019, Age-adjusted rate of<br>new lung cancer cases was 53.7 per 100,000 people <br><br>3642 lung cancer cases were reported\", \"In Montanain 2019, Age-adjusted rate of<br>new lung cancer cases was 47.4 per 100,000 people <br><br>692 lung cancer cases were reported\", \"In Georgiain 2019, Age-adjusted rate of<br>new lung cancer cases was 59.9 per 100,000 people <br><br>6929 lung cancer cases were reported\", \"In Oklahomain 2019, Age-adjusted rate of<br>new lung cancer cases was 61.9 per 100,000 people <br><br>2965 lung cancer cases were reported\", \"In Texasin 2019, Age-adjusted rate of<br>new lung cancer cases was 47.8 per 100,000 people <br><br>13427 lung cancer cases were reported\", \"In Marylandin 2019, Age-adjusted rate of<br>new lung cancer cases was 54.6 per 100,000 people <br><br>3947 lung cancer cases were reported\", \"In Idahoin 2019, Age-adjusted rate of<br>new lung cancer cases was 46.9 per 100,000 people <br><br>961 lung cancer cases were reported\", \"In New Mexicoin 2019, Age-adjusted rate of<br>new lung cancer cases was 33.7 per 100,000 people <br><br>905 lung cancer cases were reported\", \"In South Dakotain 2019, Age-adjusted rate of<br>new lung cancer cases was 55.9 per 100,000 people <br><br>601 lung cancer cases were reported\", \"In Utahin 2019, Age-adjusted rate of<br>new lung cancer cases was 25.1 per 100,000 people <br><br>672 lung cancer cases were reported\", \"In Californiain 2019, Age-adjusted rate of<br>new lung cancer cases was 38.8 per 100,000 people <br><br>16803 lung cancer cases were reported\", \"In Alaskain 2019, Age-adjusted rate of<br>new lung cancer cases was 52.9 per 100,000 people <br><br>363 lung cancer cases were reported\", \"In Hawaiiin 2019, Age-adjusted rate of<br>new lung cancer cases was 44.7 per 100,000 people <br><br>858 lung cancer cases were reported\", \"In Virginiain 2019, Age-adjusted rate of<br>new lung cancer cases was 51.3 per 100,000 people <br><br>5219 lung cancer cases were reported\", \"In District of Columbiain 2019, Age-adjusted rate of<br>new lung cancer cases was 42.8 per 100,000 people <br><br>296 lung cancer cases were reported\", \"In Mississippiin 2019, Age-adjusted rate of<br>new lung cancer cases was 71.7 per 100,000 people <br><br>2647 lung cancer cases were reported\", \"In Missouriin 2019, Age-adjusted rate of<br>new lung cancer cases was 70.8 per 100,000 people <br><br>5625 lung cancer cases were reported\", \"In West Virginiain 2019, Age-adjusted rate of<br>new lung cancer cases was 81.3 per 100,000 people <br><br>2176 lung cancer cases were reported\", \"In Tennesseein 2019, Age-adjusted rate of<br>new lung cancer cases was 70.9 per 100,000 people <br><br>6044 lung cancer cases were reported\", \"In Floridain 2019, Age-adjusted rate of<br>new lung cancer cases was 54.2 per 100,000 people <br><br>17068 lung cancer cases were reported\", \"In Arkansasin 2019, Age-adjusted rate of<br>new lung cancer cases was 71.4 per 100,000 people <br><br>2777 lung cancer cases were reported\", \"In North Carolinain 2019, Age-adjusted rate of<br>new lung cancer cases was 62.9 per 100,000 people <br><br>8093 lung cancer cases were reported\", \"In Pennsylvaniain 2019, Age-adjusted rate of<br>new lung cancer cases was 61.7 per 100,000 people <br><br>10929 lung cancer cases were reported\", \"In Iowain 2019, Age-adjusted rate of<br>new lung cancer cases was 62.8 per 100,000 people <br><br>2557 lung cancer cases were reported\", \"In Kentuckyin 2019, Age-adjusted rate of<br>new lung cancer cases was 87.0 per 100,000 people <br><br>4933 lung cancer cases were reported\", \"In Mainein 2019, Age-adjusted rate of<br>new lung cancer cases was 68.4 per 100,000 people <br><br>1392 lung cancer cases were reported\", \"In South Carolinain 2019, Age-adjusted rate of<br>new lung cancer cases was 61.6 per 100,000 people <br><br>4137 lung cancer cases were reported\", \"In Kansasin 2019, Age-adjusted rate of<br>new lung cancer cases was 52.7 per 100,000 people <br><br>1855 lung cancer cases were reported\", \"In Alabamain 2019, Age-adjusted rate of<br>new lung cancer cases was 61.7 per 100,000 people <br><br>3927 lung cancer cases were reported\", \"In Vermontin 2019, Age-adjusted rate of<br>new lung cancer cases was 56.5 per 100,000 people <br><br>506 lung cancer cases were reported\", \"In Arizonain 2019, Age-adjusted rate of<br>new lung cancer cases was 43.3 per 100,000 people <br><br>3968 lung cancer cases were reported\", \"In Washingtonin 2019, Age-adjusted rate of<br>new lung cancer cases was 49.6 per 100,000 people <br><br>4349 lung cancer cases were reported\", \"In Ohioin 2019, Age-adjusted rate of<br>new lung cancer cases was 63.8 per 100,000 people <br><br>9742 lung cancer cases were reported\", \"In North Dakotain 2019, Age-adjusted rate of<br>new lung cancer cases was 60.2 per 100,000 people <br><br>522 lung cancer cases were reported\", \"In New Jerseyin 2019, Age-adjusted rate of<br>new lung cancer cases was 51.4 per 100,000 people <br><br>5743 lung cancer cases were reported\", \"In Delawarein 2019, Age-adjusted rate of<br>new lung cancer cases was 56.7 per 100,000 people <br><br>761 lung cancer cases were reported\", \"In New Hampshirein 2019, Age-adjusted rate of<br>new lung cancer cases was 60.5 per 100,000 people <br><br>1137 lung cancer cases were reported\", \"In Nebraskain 2019, Age-adjusted rate of<br>new lung cancer cases was 54.6 per 100,000 people <br><br>1256 lung cancer cases were reported\", \"In New Yorkin 2019, Age-adjusted rate of<br>new lung cancer cases was 58.3 per 100,000 people <br><br>14364 lung cancer cases were reported\", \"In Wisconsinin 2019, Age-adjusted rate of<br>new lung cancer cases was 56.0 per 100,000 people <br><br>4234 lung cancer cases were reported\", \"In Illinoisin 2019, Age-adjusted rate of<br>new lung cancer cases was 61.2 per 100,000 people <br><br>9429 lung cancer cases were reported\", \"In Indianain 2019, Age-adjusted rate of<br>new lung cancer cases was 66.2 per 100,000 people <br><br>5379 lung cancer cases were reported\", \"In Louisianain 2019, Age-adjusted rate of<br>new lung cancer cases was 63.4 per 100,000 people <br><br>3564 lung cancer cases were reported\", \"In Massachusettsin 2019, Age-adjusted rate of<br>new lung cancer cases was 58.8 per 100,000 people <br><br>5141 lung cancer cases were reported\", \"In Michiganin 2019, Age-adjusted rate of<br>new lung cancer cases was 60.1 per 100,000 people <br><br>7887 lung cancer cases were reported\", \"In Connecticutin 2019, Age-adjusted rate of<br>new lung cancer cases was 58.7 per 100,000 people <br><br>2792 lung cancer cases were reported\"], \"type\": \"choropleth\", \"z\": [281, 1709, 859, 2640, 2418, 3642, 692, 6929, 2965, 13427, 3947, 961, 905, 601, 672, 16803, 363, 858, 5219, 296, 2647, 5625, 2176, 6044, 17068, 2777, 8093, 10929, 2557, 4933, 1392, 4137, 1855, 3927, 506, 3968, 4349, 9742, 522, 5743, 761, 1137, 1256, 14364, 4234, 9429, 5379, 3564, 5141, 7887, 2792]}],\n",
       "                        {\"geo\": {\"lakecolor\": \"rgb(255, 255, 255)\", \"projection\": {\"type\": \"albers usa\"}, \"scope\": \"usa\", \"showlakes\": true}, \"template\": {\"data\": {\"bar\": [{\"error_x\": {\"color\": \"#2a3f5f\"}, \"error_y\": {\"color\": \"#2a3f5f\"}, \"marker\": {\"line\": {\"color\": \"#E5ECF6\", \"width\": 0.5}}, \"type\": \"bar\"}], \"barpolar\": [{\"marker\": {\"line\": {\"color\": \"#E5ECF6\", \"width\": 0.5}}, \"type\": \"barpolar\"}], \"carpet\": [{\"aaxis\": {\"endlinecolor\": \"#2a3f5f\", \"gridcolor\": \"white\", \"linecolor\": \"white\", \"minorgridcolor\": \"white\", \"startlinecolor\": \"#2a3f5f\"}, \"baxis\": {\"endlinecolor\": \"#2a3f5f\", \"gridcolor\": \"white\", \"linecolor\": \"white\", \"minorgridcolor\": \"white\", \"startlinecolor\": \"#2a3f5f\"}, \"type\": \"carpet\"}], \"choropleth\": [{\"colorbar\": {\"outlinewidth\": 0, \"ticks\": \"\"}, \"type\": \"choropleth\"}], \"contour\": [{\"colorbar\": {\"outlinewidth\": 0, \"ticks\": \"\"}, \"colorscale\": [[0.0, \"#0d0887\"], [0.1111111111111111, \"#46039f\"], [0.2222222222222222, \"#7201a8\"], [0.3333333333333333, \"#9c179e\"], [0.4444444444444444, \"#bd3786\"], [0.5555555555555556, \"#d8576b\"], [0.6666666666666666, \"#ed7953\"], [0.7777777777777778, \"#fb9f3a\"], [0.8888888888888888, \"#fdca26\"], [1.0, \"#f0f921\"]], \"type\": \"contour\"}], \"contourcarpet\": [{\"colorbar\": {\"outlinewidth\": 0, \"ticks\": \"\"}, \"type\": \"contourcarpet\"}], \"heatmap\": [{\"colorbar\": {\"outlinewidth\": 0, \"ticks\": \"\"}, \"colorscale\": [[0.0, \"#0d0887\"], [0.1111111111111111, \"#46039f\"], [0.2222222222222222, \"#7201a8\"], [0.3333333333333333, \"#9c179e\"], [0.4444444444444444, \"#bd3786\"], [0.5555555555555556, \"#d8576b\"], [0.6666666666666666, \"#ed7953\"], [0.7777777777777778, \"#fb9f3a\"], [0.8888888888888888, \"#fdca26\"], [1.0, \"#f0f921\"]], \"type\": \"heatmap\"}], \"heatmapgl\": [{\"colorbar\": {\"outlinewidth\": 0, \"ticks\": \"\"}, \"colorscale\": [[0.0, \"#0d0887\"], [0.1111111111111111, \"#46039f\"], [0.2222222222222222, \"#7201a8\"], [0.3333333333333333, \"#9c179e\"], [0.4444444444444444, \"#bd3786\"], [0.5555555555555556, \"#d8576b\"], [0.6666666666666666, \"#ed7953\"], [0.7777777777777778, \"#fb9f3a\"], [0.8888888888888888, \"#fdca26\"], [1.0, \"#f0f921\"]], \"type\": \"heatmapgl\"}], \"histogram\": [{\"marker\": {\"colorbar\": {\"outlinewidth\": 0, \"ticks\": \"\"}}, \"type\": \"histogram\"}], \"histogram2d\": [{\"colorbar\": {\"outlinewidth\": 0, \"ticks\": \"\"}, \"colorscale\": [[0.0, \"#0d0887\"], [0.1111111111111111, \"#46039f\"], [0.2222222222222222, \"#7201a8\"], [0.3333333333333333, \"#9c179e\"], [0.4444444444444444, \"#bd3786\"], [0.5555555555555556, \"#d8576b\"], [0.6666666666666666, \"#ed7953\"], [0.7777777777777778, \"#fb9f3a\"], [0.8888888888888888, \"#fdca26\"], [1.0, \"#f0f921\"]], \"type\": \"histogram2d\"}], \"histogram2dcontour\": [{\"colorbar\": {\"outlinewidth\": 0, \"ticks\": \"\"}, \"colorscale\": [[0.0, \"#0d0887\"], [0.1111111111111111, \"#46039f\"], [0.2222222222222222, \"#7201a8\"], [0.3333333333333333, \"#9c179e\"], [0.4444444444444444, \"#bd3786\"], [0.5555555555555556, \"#d8576b\"], [0.6666666666666666, \"#ed7953\"], [0.7777777777777778, \"#fb9f3a\"], [0.8888888888888888, \"#fdca26\"], [1.0, \"#f0f921\"]], \"type\": \"histogram2dcontour\"}], \"mesh3d\": [{\"colorbar\": {\"outlinewidth\": 0, \"ticks\": \"\"}, \"type\": \"mesh3d\"}], \"parcoords\": [{\"line\": {\"colorbar\": {\"outlinewidth\": 0, \"ticks\": \"\"}}, \"type\": \"parcoords\"}], \"pie\": [{\"automargin\": true, \"type\": \"pie\"}], \"scatter\": [{\"marker\": {\"colorbar\": {\"outlinewidth\": 0, \"ticks\": \"\"}}, \"type\": \"scatter\"}], \"scatter3d\": [{\"line\": {\"colorbar\": {\"outlinewidth\": 0, \"ticks\": \"\"}}, \"marker\": {\"colorbar\": {\"outlinewidth\": 0, \"ticks\": \"\"}}, \"type\": \"scatter3d\"}], \"scattercarpet\": [{\"marker\": {\"colorbar\": {\"outlinewidth\": 0, \"ticks\": \"\"}}, \"type\": \"scattercarpet\"}], \"scattergeo\": [{\"marker\": {\"colorbar\": {\"outlinewidth\": 0, \"ticks\": \"\"}}, \"type\": \"scattergeo\"}], \"scattergl\": [{\"marker\": {\"colorbar\": {\"outlinewidth\": 0, \"ticks\": \"\"}}, \"type\": \"scattergl\"}], \"scattermapbox\": [{\"marker\": {\"colorbar\": {\"outlinewidth\": 0, \"ticks\": \"\"}}, \"type\": \"scattermapbox\"}], \"scatterpolar\": [{\"marker\": {\"colorbar\": {\"outlinewidth\": 0, \"ticks\": \"\"}}, \"type\": \"scatterpolar\"}], \"scatterpolargl\": [{\"marker\": {\"colorbar\": {\"outlinewidth\": 0, \"ticks\": \"\"}}, \"type\": \"scatterpolargl\"}], \"scatterternary\": [{\"marker\": {\"colorbar\": {\"outlinewidth\": 0, \"ticks\": \"\"}}, \"type\": \"scatterternary\"}], \"surface\": [{\"colorbar\": {\"outlinewidth\": 0, \"ticks\": \"\"}, \"colorscale\": [[0.0, \"#0d0887\"], [0.1111111111111111, \"#46039f\"], [0.2222222222222222, \"#7201a8\"], [0.3333333333333333, \"#9c179e\"], [0.4444444444444444, \"#bd3786\"], [0.5555555555555556, \"#d8576b\"], [0.6666666666666666, \"#ed7953\"], [0.7777777777777778, \"#fb9f3a\"], [0.8888888888888888, \"#fdca26\"], [1.0, \"#f0f921\"]], \"type\": \"surface\"}], \"table\": [{\"cells\": {\"fill\": {\"color\": \"#EBF0F8\"}, \"line\": {\"color\": \"white\"}}, \"header\": {\"fill\": {\"color\": \"#C8D4E3\"}, \"line\": {\"color\": \"white\"}}, \"type\": \"table\"}]}, \"layout\": {\"annotationdefaults\": {\"arrowcolor\": \"#2a3f5f\", \"arrowhead\": 0, \"arrowwidth\": 1}, \"coloraxis\": {\"colorbar\": {\"outlinewidth\": 0, \"ticks\": \"\"}}, \"colorscale\": {\"diverging\": [[0, \"#8e0152\"], [0.1, \"#c51b7d\"], [0.2, \"#de77ae\"], [0.3, \"#f1b6da\"], [0.4, \"#fde0ef\"], [0.5, \"#f7f7f7\"], [0.6, \"#e6f5d0\"], [0.7, \"#b8e186\"], [0.8, \"#7fbc41\"], [0.9, \"#4d9221\"], [1, \"#276419\"]], \"sequential\": [[0.0, \"#0d0887\"], [0.1111111111111111, \"#46039f\"], [0.2222222222222222, \"#7201a8\"], [0.3333333333333333, \"#9c179e\"], [0.4444444444444444, \"#bd3786\"], [0.5555555555555556, \"#d8576b\"], [0.6666666666666666, \"#ed7953\"], [0.7777777777777778, \"#fb9f3a\"], [0.8888888888888888, \"#fdca26\"], [1.0, \"#f0f921\"]], \"sequentialminus\": [[0.0, \"#0d0887\"], [0.1111111111111111, \"#46039f\"], [0.2222222222222222, \"#7201a8\"], [0.3333333333333333, \"#9c179e\"], [0.4444444444444444, \"#bd3786\"], [0.5555555555555556, \"#d8576b\"], [0.6666666666666666, \"#ed7953\"], [0.7777777777777778, \"#fb9f3a\"], [0.8888888888888888, \"#fdca26\"], [1.0, \"#f0f921\"]]}, \"colorway\": [\"#636efa\", \"#EF553B\", \"#00cc96\", \"#ab63fa\", \"#FFA15A\", \"#19d3f3\", \"#FF6692\", \"#B6E880\", \"#FF97FF\", \"#FECB52\"], \"font\": {\"color\": \"#2a3f5f\"}, \"geo\": {\"bgcolor\": \"white\", \"lakecolor\": \"white\", \"landcolor\": \"#E5ECF6\", \"showlakes\": true, \"showland\": true, \"subunitcolor\": \"white\"}, \"hoverlabel\": {\"align\": \"left\"}, \"hovermode\": \"closest\", \"mapbox\": {\"style\": \"light\"}, \"paper_bgcolor\": \"white\", \"plot_bgcolor\": \"#E5ECF6\", \"polar\": {\"angularaxis\": {\"gridcolor\": \"white\", \"linecolor\": \"white\", \"ticks\": \"\"}, \"bgcolor\": \"#E5ECF6\", \"radialaxis\": {\"gridcolor\": \"white\", \"linecolor\": \"white\", \"ticks\": \"\"}}, \"scene\": {\"xaxis\": {\"backgroundcolor\": \"#E5ECF6\", \"gridcolor\": \"white\", \"gridwidth\": 2, \"linecolor\": \"white\", \"showbackground\": true, \"ticks\": \"\", \"zerolinecolor\": \"white\"}, \"yaxis\": {\"backgroundcolor\": \"#E5ECF6\", \"gridcolor\": \"white\", \"gridwidth\": 2, \"linecolor\": \"white\", \"showbackground\": true, \"ticks\": \"\", \"zerolinecolor\": \"white\"}, \"zaxis\": {\"backgroundcolor\": \"#E5ECF6\", \"gridcolor\": \"white\", \"gridwidth\": 2, \"linecolor\": \"white\", \"showbackground\": true, \"ticks\": \"\", \"zerolinecolor\": \"white\"}}, \"shapedefaults\": {\"line\": {\"color\": \"#2a3f5f\"}}, \"ternary\": {\"aaxis\": {\"gridcolor\": \"white\", \"linecolor\": \"white\", \"ticks\": \"\"}, \"baxis\": {\"gridcolor\": \"white\", \"linecolor\": \"white\", \"ticks\": \"\"}, \"bgcolor\": \"#E5ECF6\", \"caxis\": {\"gridcolor\": \"white\", \"linecolor\": \"white\", \"ticks\": \"\"}}, \"title\": {\"x\": 0.05}, \"xaxis\": {\"automargin\": true, \"gridcolor\": \"white\", \"linecolor\": \"white\", \"ticks\": \"\", \"title\": {\"standoff\": 15}, \"zerolinecolor\": \"white\", \"zerolinewidth\": 2}, \"yaxis\": {\"automargin\": true, \"gridcolor\": \"white\", \"linecolor\": \"white\", \"ticks\": \"\", \"title\": {\"standoff\": 15}, \"zerolinecolor\": \"white\", \"zerolinewidth\": 2}}}, \"title\": {\"text\": \"No. of Lung and Bronchus Cancer , All Ages, All Races/Ethnicities, Male and Female by State, 2019\"}},\n",
       "                        {\"responsive\": true}\n",
       "                    ).then(function(){\n",
       "                            \n",
       "var gd = document.getElementById('b99f8ae0-9f8c-4f88-86f1-38262574d6ad');\n",
       "var x = new MutationObserver(function (mutations, observer) {{\n",
       "        var display = window.getComputedStyle(gd).display;\n",
       "        if (!display || display === 'none') {{\n",
       "            console.log([gd, 'removed!']);\n",
       "            Plotly.purge(gd);\n",
       "            observer.disconnect();\n",
       "        }}\n",
       "}});\n",
       "\n",
       "// Listen for the removal of the full notebook cells\n",
       "var notebookContainer = gd.closest('#notebook-container');\n",
       "if (notebookContainer) {{\n",
       "    x.observe(notebookContainer, {childList: true});\n",
       "}}\n",
       "\n",
       "// Listen for the clearing of the current output cell\n",
       "var outputEl = gd.closest('.output');\n",
       "if (outputEl) {{\n",
       "    x.observe(outputEl, {childList: true});\n",
       "}}\n",
       "\n",
       "                        })\n",
       "                };\n",
       "                });\n",
       "            </script>\n",
       "        </div>"
      ]
     },
     "metadata": {},
     "output_type": "display_data"
    }
   ],
   "source": [
    "import plotly.graph_objects as go\n",
    "import pandas as pd\n",
    "import chart_studio.plotly as py\n",
    "from plotly.offline import plot\n",
    "df=pd.read_csv('USCS_OverviewMap.csv')\n",
    "\n",
    "# Cited: https://plotly.com/python/choropleth-maps/\n",
    "for col in df.columns:\n",
    "    df[col] = df[col].astype(str)\n",
    "\n",
    "df['text'] = 'In '+df['Area'] + 'in 2019, Age-adjusted rate of'+'<br>'+ \\\n",
    "    'new lung cancer cases was ' + df['AgeAdjustedRate']+' per 100,000 people '+'<br>'+'<br>'\\\n",
    "      + df['CaseCount']+' lung cancer cases were reported'\n",
    "\n",
    "fig = go.Figure(data=go.Choropleth(\n",
    "    locations=df['Code'],\n",
    "    z=df['CaseCount'].astype(int),\n",
    "    locationmode='USA-states',\n",
    "    colorscale='Reds',\n",
    "    autocolorscale=False,\n",
    "    text=df['text'], # hover text\n",
    "    marker_line_color='white', # line markers between states\n",
    "    colorbar_title=\"Lung Cancer Cases\"\n",
    "))\n",
    "\n",
    "fig.update_layout(\n",
    "    title_text='No. of Lung and Bronchus Cancer , All Ages, All Races/Ethnicities, Male and Female by State, 2019',\n",
    "    geo = dict(\n",
    "        scope='usa',\n",
    "        projection=go.layout.geo.Projection(type = 'albers usa'),\n",
    "        showlakes=True, # lakes\n",
    "        lakecolor='rgb(255, 255, 255)'),\n",
    ")\n",
    "\n",
    "fig.show()\n",
    "py.sign_in('rajsubedi07', '8tRJLHEgTVaAlUNJWGuy')\n",
    "#py.iplot(fig)\n",
    "#plot(fig, filename= 'CancerCasesInUS.html')"
   ]
  },
  {
   "cell_type": "code",
   "execution_count": null,
   "metadata": {},
   "outputs": [],
   "source": []
  }
 ],
 "metadata": {
  "kernelspec": {
   "display_name": "Python 3",
   "language": "python",
   "name": "python3"
  },
  "language_info": {
   "codemirror_mode": {
    "name": "ipython",
    "version": 3
   },
   "file_extension": ".py",
   "mimetype": "text/x-python",
   "name": "python",
   "nbconvert_exporter": "python",
   "pygments_lexer": "ipython3",
   "version": "3.8.3"
  }
 },
 "nbformat": 4,
 "nbformat_minor": 4
}
